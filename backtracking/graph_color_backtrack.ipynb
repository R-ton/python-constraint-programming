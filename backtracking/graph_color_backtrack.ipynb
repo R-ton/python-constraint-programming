{
 "cells": [
  {
   "cell_type": "code",
   "execution_count": 57,
   "id": "0eec8d63-c872-42bf-a116-66fa9974c09d",
   "metadata": {},
   "outputs": [],
   "source": [
    "class Graph:\n",
    "    def __init__(self, vertices=list(), edges=list()):\n",
    "        self.vertices = vertices\n",
    "        self.color={}\n",
    "        self.connector = {vertex: [] for vertex in vertices}\n",
    "        for edge in edges:\n",
    "            self.connect_edge(edge)\n",
    "    \n",
    "    def connect_edge(self, edge):\n",
    "        (vertex_A, vertex_B) = edge\n",
    "        print(vertex_A)\n",
    "        if vertex_A in self.vertices and vertex_B in self.vertices:\n",
    "            self.connector[vertex_A].append(vertex_B)\n",
    "            self.connector[vertex_B].append(vertex_A)\n",
    "        else:\n",
    "            raise (\"One or both of the vertices of the edge\", edge, \"not found in the graph.\")    \n",
    "            \n",
    "    def print_graph(self):\n",
    "        for vertex in self.vertices:\n",
    "            print(vertex, \":\", \"->\".join(map(str, self.connector[vertex])))\n",
    "\n",
    "    def get_adjacent_vertex(self,vertex):\n",
    "        return [] if vertex not in self.vertices else self.connector[vertex]\n",
    "\n",
    "    def get_color_vertex(self,vertex):\n",
    "        return None if vertex not in self.vertices else self.color[vertex]\n",
    "\n",
    "    def is_color_available(self,color):\n",
    "        for vertex in self.color:\n",
    "            if self.color[vertex] == color:\n",
    "                return False\n",
    "        return True\n",
    "    def add_color(self,vertex, color, k):\n",
    "        self.color[vertex] = None if color > k else color"
   ]
  },
  {
   "cell_type": "code",
   "execution_count": 58,
   "id": "70840d6d-0864-48c1-a140-352267b747ec",
   "metadata": {},
   "outputs": [],
   "source": [
    "def is_valid(graph, vertex, color):\n",
    "    adjacent_vertex = graph.get_adjacent_vertex(vertex)\n",
    "    adjacent_same_color = False\n",
    "    print(\"adjacent_vertex\", adjacent_vertex)\n",
    "    for adj_vertex in adjacent_vertex:\n",
    "        if adj_vertex not in graph.color:\n",
    "            adjacent_same_color = False\n",
    "        elif graph.color[adj_vertex] == color:\n",
    "            adjacent_same_color = True\n",
    "    if graph.is_color_available(color) and adjacent_same_color is False:\n",
    "        return True\n",
    "    else:\n",
    "        return False"
   ]
  },
  {
   "cell_type": "code",
   "execution_count": 59,
   "id": "77484180-0d18-4911-a84a-63fbaea98126",
   "metadata": {},
   "outputs": [],
   "source": [
    "def color_backtrack(graph, color, k):\n",
    "    for vertex in graph.vertices:\n",
    "        if is_valid(graph, vertex, color):\n",
    "            graph.add_color(vertex, color, k)\n",
    "            color += 1\n",
    "            "
   ]
  },
  {
   "cell_type": "code",
   "execution_count": 63,
   "id": "9ebe7e4d-86ba-4282-a415-2bc36a7aedd3",
   "metadata": {},
   "outputs": [
    {
     "name": "stdout",
     "output_type": "stream",
     "text": [
      "b\n",
      "c\n",
      "a\n",
      "a\n",
      "adjacent_vertex ['b', 'd', 'a']\n",
      "adjacent_vertex ['c', 'a']\n",
      "adjacent_vertex ['c']\n",
      "adjacent_vertex ['b', 'c']\n",
      "{'c': 1, 'b': None, 'd': None, 'a': None}\n"
     ]
    }
   ],
   "source": [
    "# Define the vertices and edges\n",
    "V = {'a', 'b', 'c', 'd'}\n",
    "E = {('a', 'b'), ('a', 'c'), ('b', 'c'), ('c', 'd')}\n",
    "\n",
    "# Create the graph instance\n",
    "g = Graph(V, E)\n",
    "\n",
    "color = 1\n",
    "k = 1\n",
    "color_backtrack(g, color, k)\n",
    "\n",
    "print(g.color)\n",
    "# Print the graph\n",
    "# g.print_graph()\n",
    "\n",
    "# print(g.connector['a'])"
   ]
  },
  {
   "cell_type": "code",
   "execution_count": null,
   "id": "0b86c5b9-781c-4aef-9b93-50e361734cf4",
   "metadata": {},
   "outputs": [],
   "source": []
  },
  {
   "cell_type": "code",
   "execution_count": null,
   "id": "2ec14394-f558-4809-bfcc-71da142c84ab",
   "metadata": {},
   "outputs": [],
   "source": []
  }
 ],
 "metadata": {
  "kernelspec": {
   "display_name": "Python 3 (ipykernel)",
   "language": "python",
   "name": "python3"
  },
  "language_info": {
   "codemirror_mode": {
    "name": "ipython",
    "version": 3
   },
   "file_extension": ".py",
   "mimetype": "text/x-python",
   "name": "python",
   "nbconvert_exporter": "python",
   "pygments_lexer": "ipython3",
   "version": "3.8.6"
  }
 },
 "nbformat": 4,
 "nbformat_minor": 5
}
